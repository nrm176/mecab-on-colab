{
  "nbformat": 4,
  "nbformat_minor": 0,
  "metadata": {
    "colab": {
      "name": "Mecab-on-Colab.ipynb",
      "provenance": [],
      "collapsed_sections": [],
      "authorship_tag": "ABX9TyPYb3oSTInL5U2xMAeN6Lh+",
      "include_colab_link": true
    },
    "kernelspec": {
      "name": "python3",
      "display_name": "Python 3"
    }
  },
  "cells": [
    {
      "cell_type": "markdown",
      "metadata": {
        "id": "view-in-github",
        "colab_type": "text"
      },
      "source": [
        "<a href=\"https://colab.research.google.com/github/nrm176/mecab-on-colab/blob/master/Mecab_on_Colab.ipynb\" target=\"_parent\"><img src=\"https://colab.research.google.com/assets/colab-badge.svg\" alt=\"Open In Colab\"/></a>"
      ]
    },
    {
      "cell_type": "code",
      "metadata": {
        "id": "f1FU04DyPIJl",
        "colab_type": "code",
        "colab": {
          "base_uri": "https://localhost:8080/",
          "height": 119
        },
        "outputId": "3a8fe4bc-a202-4eb3-85e7-6ca5565047b3"
      },
      "source": [
        "!apt-get -q -y install sudo file mecab libmecab-dev mecab-ipadic-utf8 git curl python-mecab > /dev/null\n",
        "!git clone --depth 1 https://github.com/neologd/mecab-ipadic-neologd.git > /dev/null \n",
        "!echo yes | mecab-ipadic-neologd/bin/install-mecab-ipadic-neologd -n > /dev/null 2>&1\n",
        "!pip install mecab-python3 > /dev/null"
      ],
      "execution_count": 1,
      "outputs": [
        {
          "output_type": "stream",
          "text": [
            "Cloning into 'mecab-ipadic-neologd'...\n",
            "remote: Enumerating objects: 75, done.\u001b[K\n",
            "remote: Counting objects: 100% (75/75), done.\u001b[K\n",
            "remote: Compressing objects: 100% (74/74), done.\u001b[K\n",
            "remote: Total 75 (delta 5), reused 54 (delta 0), pack-reused 0\n",
            "Unpacking objects: 100% (75/75), done.\n"
          ],
          "name": "stdout"
        }
      ]
    },
    {
      "cell_type": "code",
      "metadata": {
        "id": "gUO0WbxgUkpd",
        "colab_type": "code",
        "colab": {}
      },
      "source": [
        "!ln -s /etc/mecabrc /usr/local/etc/mecabrc"
      ],
      "execution_count": 2,
      "outputs": []
    },
    {
      "cell_type": "code",
      "metadata": {
        "id": "8HrXdUNPPRiH",
        "colab_type": "code",
        "colab": {
          "base_uri": "https://localhost:8080/",
          "height": 34
        },
        "outputId": "4ae324f3-4814-4078-faf0-be983aa1f273"
      },
      "source": [
        "!echo `mecab-config --dicdir`\"/mecab-ipadic-neologd\""
      ],
      "execution_count": 3,
      "outputs": [
        {
          "output_type": "stream",
          "text": [
            "/usr/lib/x86_64-linux-gnu/mecab/dic/mecab-ipadic-neologd\n"
          ],
          "name": "stdout"
        }
      ]
    },
    {
      "cell_type": "code",
      "metadata": {
        "id": "AQjCTeBIUypx",
        "colab_type": "code",
        "colab": {
          "base_uri": "https://localhost:8080/",
          "height": 425
        },
        "outputId": "0ae64f00-ae95-430d-d031-5cc1db5e739d"
      },
      "source": [
        "%%bash\n",
        "mecab\n",
        "容疑者は警視庁麹町署で拘留され、東京地検特捜部に送検される見通しです。"
      ],
      "execution_count": 4,
      "outputs": [
        {
          "output_type": "stream",
          "text": [
            "容疑\t名詞,一般,*,*,*,*,容疑,ヨウギ,ヨーギ\n",
            "者\t名詞,接尾,一般,*,*,*,者,シャ,シャ\n",
            "は\t助詞,係助詞,*,*,*,*,は,ハ,ワ\n",
            "警視庁\t名詞,固有名詞,組織,*,*,*,警視庁,ケイシチョウ,ケイシチョー\n",
            "麹\t名詞,固有名詞,地域,一般,*,*,麹,コウジ,コージ\n",
            "町\t名詞,接尾,地域,*,*,*,町,マチ,マチ\n",
            "署\t名詞,接尾,一般,*,*,*,署,ショ,ショ\n",
            "で\t助詞,格助詞,一般,*,*,*,で,デ,デ\n",
            "拘留\t名詞,サ変接続,*,*,*,*,拘留,コウリュウ,コーリュー\n",
            "さ\t動詞,自立,*,*,サ変・スル,未然レル接続,する,サ,サ\n",
            "れ\t動詞,接尾,*,*,一段,連用形,れる,レ,レ\n",
            "、\t記号,読点,*,*,*,*,、,、,、\n",
            "東京\t名詞,固有名詞,地域,一般,*,*,東京,トウキョウ,トーキョー\n",
            "地検\t名詞,一般,*,*,*,*,地検,チケン,チケン\n",
            "特捜\t名詞,一般,*,*,*,*,特捜,トクソウ,トクソー\n",
            "部\t名詞,接尾,一般,*,*,*,部,ブ,ブ\n",
            "に\t助詞,格助詞,一般,*,*,*,に,ニ,ニ\n",
            "送検\t名詞,サ変接続,*,*,*,*,送検,ソウケン,ソーケン\n",
            "さ\t動詞,自立,*,*,サ変・スル,未然レル接続,する,サ,サ\n",
            "れる\t動詞,接尾,*,*,一段,基本形,れる,レル,レル\n",
            "見通し\t名詞,一般,*,*,*,*,見通し,ミトオシ,ミトーシ\n",
            "です\t助動詞,*,*,*,特殊・デス,基本形,です,デス,デス\n",
            "。\t記号,句点,*,*,*,*,。,。,。\n",
            "EOS\n"
          ],
          "name": "stdout"
        }
      ]
    },
    {
      "cell_type": "code",
      "metadata": {
        "id": "BKO5IRVwPSfl",
        "colab_type": "code",
        "colab": {
          "base_uri": "https://localhost:8080/",
          "height": 323
        },
        "outputId": "28767a58-7a0f-4460-9366-4bd6540e51d1"
      },
      "source": [
        "%%bash\n",
        "mecab -d /usr/lib/x86_64-linux-gnu/mecab/dic/mecab-ipadic-neologd\n",
        "容疑者は警視庁麹町署で拘留され、東京地検特捜部に送検される見通しです。"
      ],
      "execution_count": 5,
      "outputs": [
        {
          "output_type": "stream",
          "text": [
            "容疑者\t名詞,固有名詞,一般,*,*,*,容疑者,ヨウギシャ,ヨーギシャ\n",
            "は\t助詞,係助詞,*,*,*,*,は,ハ,ワ\n",
            "警視庁\t名詞,固有名詞,組織,*,*,*,警視庁,ケイシチョウ,ケイシチョー\n",
            "麹町署\t名詞,固有名詞,一般,*,*,*,麹町署,コウジマチショ,コージマチショ\n",
            "で\t助詞,格助詞,一般,*,*,*,で,デ,デ\n",
            "拘留\t名詞,サ変接続,*,*,*,*,拘留,コウリュウ,コーリュー\n",
            "さ\t動詞,自立,*,*,サ変・スル,未然レル接続,する,サ,サ\n",
            "れ\t動詞,接尾,*,*,一段,連用形,れる,レ,レ\n",
            "、\t記号,読点,*,*,*,*,、,、,、\n",
            "東京地検特捜部\t名詞,固有名詞,一般,*,*,*,東京地検特捜部,トウキョウチケントクソウブ,トーキョーチケントクソーブ\n",
            "に\t助詞,格助詞,一般,*,*,*,に,ニ,ニ\n",
            "送検\t名詞,サ変接続,*,*,*,*,送検,ソウケン,ソーケン\n",
            "さ\t動詞,自立,*,*,サ変・スル,未然レル接続,する,サ,サ\n",
            "れる\t動詞,接尾,*,*,一段,基本形,れる,レル,レル\n",
            "見通し\t名詞,一般,*,*,*,*,見通し,ミトオシ,ミトーシ\n",
            "です\t助動詞,*,*,*,特殊・デス,基本形,です,デス,デス\n",
            "。\t記号,句点,*,*,*,*,。,。,。\n",
            "EOS\n"
          ],
          "name": "stdout"
        }
      ]
    },
    {
      "cell_type": "code",
      "metadata": {
        "id": "l6udT6buPUSl",
        "colab_type": "code",
        "colab": {
          "base_uri": "https://localhost:8080/",
          "height": 153
        },
        "outputId": "530d199a-82a3-42bf-d9d0-b5d5c95533d2"
      },
      "source": [
        "import MeCab\n",
        "# mecab = MeCab.Tagger('-Ochasen')\n",
        "mecab = MeCab.Tagger('-d /usr/lib/x86_64-linux-gnu/mecab/dic/mecab-ipadic-neologd')\n",
        "res = mecab.parse('さぁいよいよ始まります、NHK紅白歌合戦')\n",
        "print(res)"
      ],
      "execution_count": 6,
      "outputs": [
        {
          "output_type": "stream",
          "text": [
            "さぁ\t感動詞,*,*,*,*,*,さぁ,サァ,サー\n",
            "いよいよ\t副詞,一般,*,*,*,*,いよいよ,イヨイヨ,イヨイヨ\n",
            "始まり\t動詞,自立,*,*,五段・ラ行,連用形,始まる,ハジマリ,ハジマリ\n",
            "ます\t助動詞,*,*,*,特殊・マス,基本形,ます,マス,マス\n",
            "、\t記号,読点,*,*,*,*,、,、,、\n",
            "NHK紅白歌合戦\t名詞,固有名詞,一般,*,*,*,NHK紅白歌合戦,エヌエイチケイコウハクウタガッセン,エヌエイチケイコーハクウタガッセン\n",
            "EOS\n",
            "\n"
          ],
          "name": "stdout"
        }
      ]
    }
  ]
}